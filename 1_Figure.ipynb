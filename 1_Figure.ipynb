{
  "nbformat": 4,
  "nbformat_minor": 0,
  "metadata": {
    "colab": {
      "name": "1 Figure.ipynb",
      "provenance": [],
      "private_outputs": true
    },
    "kernelspec": {
      "name": "python3",
      "display_name": "Python 3"
    },
    "accelerator": "GPU"
  },
  "cells": [
    {
      "cell_type": "markdown",
      "metadata": {
        "id": "E_R0bsVyO7Fe"
      },
      "source": [
        "# 0.0 Problema"
      ]
    },
    {
      "cell_type": "markdown",
      "metadata": {
        "id": "E1EcA_CnPX8L"
      },
      "source": [
        "**Objetivo**: Se aproximar o máximo possivel do gráfico feito pela Finacial Times.\n",
        "\n",
        "\n",
        "\n",
        "[<img src=\"https://www.ft.com/__origami/service/image/v2/images/raw/https%3A%2F%2Fd6c748xw2pzm8.cloudfront.net%2Fprod%2F2cc43cb0-d713-11ea-8827-2bf5fdc831fb-fullwidth.png?dpr=1&fit=scale-down&quality=highest&source=next&width=1260\">](https://www.ft.com/content/272354f2-f970-4ae4-a8ae-848c4baf8f4a)\n",
        "\n",
        "Para isto, é interessante quebrar o escopo em vários escopos:\n",
        "- [ ] Definir o que vai ser Estudado\n",
        "- [ ] Importar Bibliotecas\n",
        "- [ ] Limpar os Dados\n",
        "- [ ] Plotar o Gráfico\n",
        "\n"
      ]
    },
    {
      "cell_type": "markdown",
      "metadata": {
        "id": "ao4JzwrxRGK9"
      },
      "source": [
        "Para esse notebook, vamos utilizar a curva de Retail, dos estados do Brasil.\n",
        "\n",
        "Fizemos então as seguintes definições:\n",
        "\n",
        "  - Tratar Apenas dos estados Brasileiros\n",
        "  - Tratar Apenas do campo *RETAIL* (ida ao varejo)\n",
        "  - Gerar um gráfico mais próximo do FT.\n",
        "\n",
        "\n",
        "Analisando a foto do FT, temos alguns escopos dentro do gráfico:\n",
        "  - Gerar um gráfico mais próximo do FT.\n",
        "    - É um gráfico agrupado pela data *(eixo X)* pelo RETAIL *(eixo Y)*\n",
        "    - Ter um Estado em Destaque e o resto em fundo\n",
        "    - Ter o Valor Minimo da Curva\n",
        "    - Ter o Valor Maximo da Curva\n",
        "    - Ter a variação do Mínimo com o último valor\n",
        "\n",
        "Dado isso, é possivel que teremos algumas funções\n",
        "\n",
        "  - Agrupar\n",
        "  - Minimo\n",
        "  - Ultimo\n",
        "  - Variacao\n"
      ]
    },
    {
      "cell_type": "markdown",
      "metadata": {
        "id": "lt37OZd7LuAX"
      },
      "source": [
        "# 1.0 Importando Bibliotecas"
      ]
    },
    {
      "cell_type": "code",
      "metadata": {
        "id": "6bIUoo146lAh"
      },
      "source": [
        "import pandas as pd\n",
        "import numpy as np\n",
        "import plotly.express as px\n",
        "import matplotlib.pyplot as plt\n",
        "import matplotlib.patheffects as path_effects\n"
      ],
      "execution_count": null,
      "outputs": []
    },
    {
      "cell_type": "markdown",
      "metadata": {
        "id": "SLai8iIlLx-9"
      },
      "source": [
        "# 2.0 Importando Dataset"
      ]
    },
    {
      "cell_type": "code",
      "metadata": {
        "id": "PA9IgEaqLtXH"
      },
      "source": [
        "link = \"https://www.gstatic.com/covid19/mobility/Global_Mobility_Report.csv\"\n",
        "\n",
        "\n",
        "df = pd.read_csv(link)"
      ],
      "execution_count": null,
      "outputs": []
    },
    {
      "cell_type": "code",
      "metadata": {
        "id": "1KMXQ7qqL6zt"
      },
      "source": [
        "df.head(2)"
      ],
      "execution_count": null,
      "outputs": []
    },
    {
      "cell_type": "markdown",
      "metadata": {
        "id": "q4QDI0gtL8ra"
      },
      "source": [
        "# 3.0 Limpando os Dados"
      ]
    },
    {
      "cell_type": "markdown",
      "metadata": {
        "id": "zwcjX6VbNKRU"
      },
      "source": [
        "## 3.1 Limpando os Nomes"
      ]
    },
    {
      "cell_type": "code",
      "metadata": {
        "id": "Zt5Qv1SrL76o"
      },
      "source": [
        "## Escolhendo Apenas a Região do Brasil\n",
        "df = df.loc[df.country_region == \"Brazil\",:].iloc[:,[2,3,7,8]]\n",
        "\n",
        "## Ajustando os Nomes das colunas\n",
        "df.columns = [\"estado\",\"cidade\",\"data\",\"ida_ao_varejo\"]\n",
        "\n",
        "##\n",
        "df.estado.replace('Federal District','Distrito Federal', inplace=True)"
      ],
      "execution_count": null,
      "outputs": []
    },
    {
      "cell_type": "code",
      "metadata": {
        "id": "HL-D4Rb7MV5g"
      },
      "source": [
        "df.head(2)"
      ],
      "execution_count": null,
      "outputs": []
    },
    {
      "cell_type": "markdown",
      "metadata": {
        "id": "2nx9SZUBNJW6"
      },
      "source": [
        "## 3.2 Transformando em Série Temporal"
      ]
    },
    {
      "cell_type": "code",
      "metadata": {
        "id": "SYTYevhbMWeQ"
      },
      "source": [
        " ## Transformando a data (tipo string) para datetime (tipo datetime)\n",
        " df.data = pd.to_datetime(df.data)\n",
        "\n",
        " ## colocando a data no lugar do index\n",
        " df.index = df.data\n",
        "\n",
        " ## removendo a coluna date\n",
        " df.drop(labels=\"data\",axis=1,inplace=True)\n",
        "\n",
        "\n",
        " # removendo State of\n",
        " df.estado = df.estado.str.replace('State of ','')"
      ],
      "execution_count": null,
      "outputs": []
    },
    {
      "cell_type": "code",
      "metadata": {
        "id": "2rvpjcaDN8v8"
      },
      "source": [
        "df.head(2)"
      ],
      "execution_count": null,
      "outputs": []
    },
    {
      "cell_type": "markdown",
      "metadata": {
        "id": "jLr0zw3vOC_L"
      },
      "source": [
        "# 4.0 Função Groupby\n"
      ]
    },
    {
      "cell_type": "code",
      "metadata": {
        "id": "qvS57USTOCNB"
      },
      "source": [
        "## Criar uma função para agrupar o Dataset\n",
        "## E ele já irá fazer a média e destacar do grupo\n",
        "def agrupar(df,agruparPor,estados = ''):\n",
        "  if(estados):\n",
        "    return df.groupby(by=agruparPor).mean().unstack()['ida_ao_varejo'][estados].rolling(window=7).mean()\n",
        "  else:\n",
        "    estados = df.estado.unique().tolist()\n",
        "    estados.pop(0)\n",
        "    return df.groupby(by=agruparPor).mean().unstack()['ida_ao_varejo'][estados].rolling(window=7).mean()"
      ],
      "execution_count": null,
      "outputs": []
    },
    {
      "cell_type": "markdown",
      "metadata": {
        "id": "8LDsX3KESnq9"
      },
      "source": [
        "# 5.0 Plotagem do Gráfico"
      ]
    },
    {
      "cell_type": "markdown",
      "metadata": {
        "id": "Q0VxfqFLSqsS"
      },
      "source": [
        "## 5.1 Função Mínimo, Último e sua Variação em Porcentagem"
      ]
    },
    {
      "cell_type": "code",
      "metadata": {
        "id": "Oqmfx0LmS3N1"
      },
      "source": [
        "## Vamos pegar o Index do valor minimo\n",
        "## E o valor do minimo\n",
        "## Retornar o index e o Ultimo Valor\n",
        "def getMinimo(serie):\n",
        "    index = serie.idxmin()\n",
        "    min = serie.min()\n",
        "    return index,min\n"
      ],
      "execution_count": null,
      "outputs": []
    },
    {
      "cell_type": "code",
      "metadata": {
        "id": "gXL8Syn6S4ip"
      },
      "source": [
        "## Vamos pegar o Index do ultimo valor\n",
        "## E o valor do último\n",
        "## Retornar o index e o Ultimo Valor\n",
        "def getUltimo(serie):\n",
        "  index = serie.tail(1).index.item()\n",
        "  ultimo = serie.iloc[-1]\n",
        "  return index,ultimo"
      ],
      "execution_count": null,
      "outputs": []
    },
    {
      "cell_type": "code",
      "metadata": {
        "id": "bbED5tOLS9U-"
      },
      "source": [
        "## Vamos dividir o ultimo pelo minimo, multiplicar por 100 e tirar 100\n",
        "## depois usamos o abs para transformar em positivo e passamos o str para\n",
        "## transformar em String, depois concatemos com % e retornamos\n",
        "def getVariacao(minimo,ultimo):\n",
        "  return '{0:.2f}'.format(abs(((ultimo/minimo)*100)-100)) + '%'"
      ],
      "execution_count": null,
      "outputs": []
    },
    {
      "cell_type": "markdown",
      "metadata": {
        "id": "aFgxaN9YULom"
      },
      "source": [
        "## 5.2 Plotagem 1 Estado"
      ]
    },
    {
      "cell_type": "markdown",
      "metadata": {
        "id": "1iEIRoScY-s5"
      },
      "source": [
        "Para testar vamos iniciar apenas com 1 estado."
      ]
    },
    {
      "cell_type": "code",
      "metadata": {
        "id": "rKs0CEf1UkbV"
      },
      "source": [
        "## Pegando os Valores\n",
        "# DF RN\n",
        "df_RN = agrupar(df,[df.index,df.estado],'Rio Grande do Norte')\n",
        "# DF COM TODOS ESTADOS\n",
        "df_todos_estados = agrupar(df,[df.index,df.estado])\n",
        "\n",
        "#Index Min,ultimo e valores e sua variacao do RN\n",
        "indexMin_RN, min_RN = getMinimo(df_RN.dropna())\n",
        "indexUltimo_RN, ultimo_RN = getUltimo(df_RN.dropna())\n",
        "variacao_RN = getVariacao(min_RN,ultimo_RN)"
      ],
      "execution_count": null,
      "outputs": []
    },
    {
      "cell_type": "code",
      "metadata": {
        "id": "LCW2ltFUYphn"
      },
      "source": [
        "data_RN = indexMin_RN.strftime(\"%d/%m/%Y\")"
      ],
      "execution_count": null,
      "outputs": []
    },
    {
      "cell_type": "code",
      "metadata": {
        "id": "93zgBD6IZFX6"
      },
      "source": [
        "## Em verde é as modificações desse código \n",
        "## zorder o quanto pra cima o bagulho ta\n",
        "\n",
        "fig, ax = plt.subplots(nrows=1, ncols=1, figsize=(10,8))\n",
        "\n",
        "\n",
        "## Plot do RN\n",
        "df_RN.plot(linewidth=6,zorder=3,color='#35d0ba', alpha=1,ax=ax)\n",
        "\n",
        "handles, labels = ax.get_legend_handles_labels()\n",
        "ax.legend(handles,labels, ncol=2)\n",
        "\n",
        "ax.set_xticklabels([\"\",\"Ago\",\"\",\"\",\"\",\"\",\"\",\"Set\"])\n",
        "ax.set_xlabel(\"\")\n",
        "\n",
        "# Bolinha no Minimo\n",
        "ax.scatter(indexMin_RN,min_RN,marker='o',color='#ff9234',linewidth=6,zorder=4)\n",
        "ax.annotate('{0:.2f}'.format(min_RN),xy=(indexMin_RN,min_RN+1),fontsize=12,color='#ff9234',weight='bold',ha='right',path_effects=[path_effects.withStroke(linewidth=4,foreground='w')])\n",
        "ax.annotate(data_RN,xy=(indexMin_RN,min_RN-5),fontsize=12,color='#ff9234',weight='bold',ha='right',path_effects=[path_effects.withStroke(linewidth=4,foreground='w')])\n",
        "\n",
        "\n",
        "# Bolinha no ultimo\n",
        "ax.scatter(indexUltimo_RN,ultimo_RN,marker='o',color='#d92027',linewidth=6,zorder=4)\n",
        "ax.annotate('{0:.2f}'.format(ultimo_RN),xy=(indexUltimo_RN,ultimo_RN+2),fontsize=12,color='#ff9234',weight='bold',ha='right',path_effects=[path_effects.withStroke(linewidth=4,foreground='w')])\n",
        "\n",
        "# Tracinhos do Capeta\n",
        "# Tranformação do Timestamp em Period\n",
        "ax.plot([pd.Period(indexMin_RN.ctime(), 'D'), pd.Period(indexUltimo_RN.ctime(), 'D')], [min_RN, min_RN], color=\"#ff9234\", linestyle=\"--\", linewidth=2)\n",
        "ax.plot([pd.Period(indexUltimo_RN.ctime(), 'D'), pd.Period(indexUltimo_RN.ctime(), 'D')], [min_RN, ultimo_RN], color=\"#d92027\", linestyle=\"--\", linewidth=2)\n",
        "\n",
        "# Porcentagem Variação\n",
        "ax.annotate(variacao_RN,xy=(indexUltimo_RN,-50),fontsize=14,color='#d92027',weight='bold',ha='right',path_effects=[path_effects.withStroke(linewidth=4,foreground='w')])\n",
        "\n",
        "## Fundo do Plot\n",
        "fig.patch.set_facecolor('#fff1e5')\n",
        "ax.set_facecolor('#fff1e5')\n",
        "\n",
        "## Plot dos Outros\n",
        "df_todos_estados.plot(legend=False,color=\"grey\",linewidth=1, alpha=0.4, ax=ax)\n",
        "\n",
        "\n",
        "## Alterando o nome\n",
        "ax.set_title(\"Recuperação do RN\",fontsize=14,color='black',weight='bold',ha='center')\n",
        "\n",
        "\n",
        "\n",
        "plt.show()"
      ],
      "execution_count": null,
      "outputs": []
    },
    {
      "cell_type": "markdown",
      "metadata": {
        "id": "zU_dkFaZotkg"
      },
      "source": [
        "## 5.3 Plotagem para Estados Selecionados"
      ]
    },
    {
      "cell_type": "code",
      "metadata": {
        "id": "KHKYR5SJaHZd"
      },
      "source": [
        "fig, ax = plt.subplots(nrows=1,ncols=5,figsize=(32,8))\n",
        "#Colocando cor na area de algo\n",
        "\n",
        "\n",
        "estados = [\"Pará\", \"Piauí\", \"Rio Grande do Norte\",\"São Paulo\",\"Santa Catarina\"]\n",
        "\n",
        "df_todos_estados = agrupar(df,[df.index,df.estado])\n",
        "\n",
        "for i,estado in enumerate(estados):\n",
        "\n",
        "  #Agrupando por Index e Estado\n",
        "  df_destaque = agrupar(df,[df.index,df.estado],estado)\n",
        "\n",
        "  ##Colocando os outros Estados em Cinza\n",
        "  df_todos_estados.plot(legend=False,color=\"grey\",linewidth=1, alpha=0.4, ax=ax[i])\n",
        "\n",
        "\n",
        "  ## Colocando o Estado em Destaque\n",
        "  df_destaque.plot(linewidth=6,zorder=3,color='#35d0ba', alpha=1,ax=ax[i])\n",
        "\n",
        "\n",
        "  # Pegar os Mínimos\n",
        "  indexMin, min = getMinimo(df_destaque.dropna())\n",
        "  indexUltimo, ultimo = getUltimo(df_destaque.dropna())\n",
        "  variacao = getVariacao(min,ultimo)\n",
        "\n",
        "  # Bolinha no Minimo\n",
        "  ax[i].scatter(indexMin,min,marker='o',color='#ff9234',linewidth=6,zorder=4)\n",
        "  ax[i].annotate('{0:.2f}'.format(min),xy=(indexMin,min+1),fontsize=14,color='black',weight='bold',ha='right',path_effects=[path_effects.withStroke(linewidth=4,foreground='w')])\n",
        "  \n",
        "\n",
        "  # Bolinha no ultimo\n",
        "  ax[i].scatter(indexUltimo,ultimo,marker='o',color='#ff9234',linewidth=6,zorder=4)\n",
        "  ax[i].annotate('{0:.2f}'.format(ultimo),xy=(indexUltimo,ultimo+2),fontsize=14,color='black',weight='bold',ha='right',path_effects=[path_effects.withStroke(linewidth=4,foreground='w')])\n",
        "\n",
        "  # Porcentagem Variação\n",
        "  ax[i].annotate(variacao,xy=(indexUltimo,-50),fontsize=14,color='#d92027',weight='bold',ha='right',path_effects=[path_effects.withStroke(linewidth=4,foreground='w')])\n",
        "  \n",
        "  # Tracinhos do Capeta\n",
        "  # Tranformação do Timestamp em Periodo\n",
        "  ax[i].plot([pd.Period(indexMin.ctime(), 'D'), pd.Period(indexUltimo.ctime(), 'D')], [min, min], color=\"#ff9234\", linestyle=\"--\", linewidth=2)\n",
        "  ax[i].plot([pd.Period(indexUltimo.ctime(), 'D'), pd.Period(indexUltimo.ctime(), 'D')], [min, ultimo], color=\"#d92027\", linestyle=\"--\", linewidth=2)\n",
        "\n",
        "\n",
        "  ## Fundo do Plot\n",
        "  fig.patch.set_facecolor('#fff1e5')\n",
        "  ax[i].set_facecolor('#fff1e5')\n",
        "  fig.patch.set_visible('#fff1e5')\n",
        "  # ax[i].spines['right'].set_visible(False)\n",
        "  # ax[i].spines['left'].set_visible(False)\n",
        "  # ax[i].spines['top'].set_visible(False)\n",
        "\n",
        "  ax[i].set_title(estado,fontsize=14,color='black',weight='bold',ha='center')\n",
        "  ax[i].xaxis.grid(False)\n",
        "  ax[i].set_facecolor('#fff1e5')\n",
        "  ax[i].set_xlabel(\"\")\n",
        "  ax[i].arrow(6, 7, -2.5, -2.5, head_width = 0.5, \n",
        "         head_length = 0.5, fc ='g', ec ='g') \n",
        "  ax[i].set_xticklabels([\"\",\"Ago\",\"\",\"\",\"\",\"\",\"\",\"Set\"])\n",
        "  ax[i].xaxis.set_tick_params(labelsize=12)\n",
        "  ax[i].yaxis.set_tick_params(labelsize=12)\n",
        "  if (i==0) or (i==4):\n",
        "    ax[i].yaxis.tick_right()\n",
        "  else:\n",
        "    ax[i].set_yticklabels([])"
      ],
      "execution_count": null,
      "outputs": []
    },
    {
      "cell_type": "markdown",
      "metadata": {
        "id": "-Q74ONFPf9zX"
      },
      "source": [
        "## 6.0 Analise para o Medium"
      ]
    },
    {
      "cell_type": "code",
      "metadata": {
        "id": "IndAOMnphOrV"
      },
      "source": [
        "Regioes = {\n",
        "    'Acre':'Norte',\n",
        "    'Amapá':'Norte',\n",
        "    'Amazonas':'Norte',\n",
        "    'Pará':'Norte',\n",
        "    'Rondônia':'Norte',\n",
        "    'Roraima':'Norte',\n",
        "    'Tocantins': 'Norte',\n",
        "    'Alagoas': 'Nordeste',\n",
        "    'Bahia': 'Nordeste',\n",
        "    'Ceará': 'Nordeste',\n",
        "    'Maranhão': 'Nordeste',\n",
        "    'Paraíba': 'Nordeste',\n",
        "    'Pernambuco': 'Nordeste',\n",
        "    'Piauí': 'Nordeste',\n",
        "    'Rio Grande do Norte': 'Nordeste',\n",
        "    'Sergipe': 'Nordeste',\n",
        "    'Goiás': 'Centro-Oeste',\n",
        "    'Distrito Federal': 'Centro-Oeste',\n",
        "    'Mato Grosso': 'Centro-Oeste',\n",
        "    'Mato Grosso do Sul': 'Centro-Oeste',\n",
        "    'Espírito Santo': 'Sudeste',\n",
        "    'Minas Gerais': 'Sudeste',\n",
        "    'Rio de Janeiro': 'Sudeste',\n",
        "    'São Paulo': 'Sudeste',\n",
        "    'Paraná': 'Sul',\n",
        "    'Santa Catarina': 'Sul',\n",
        "    'Rio Grande do Sul': 'Sul'\n",
        "}\n",
        "\n",
        "\n",
        "df['regiao'] = df.estado.map(Regioes)"
      ],
      "execution_count": null,
      "outputs": []
    },
    {
      "cell_type": "code",
      "metadata": {
        "id": "UM9plp7aGzPV"
      },
      "source": [
        "sul = df.estado.where(df.regiao == 'Sul').unique().tolist()\n",
        "sul.pop(0)\n",
        "\n",
        "norte = df.estado.where(df.regiao == 'Norte').unique().tolist()\n",
        "norte.pop(0)\n",
        "norte.pop(0)\n",
        "print(norte)\n",
        "\n",
        "nordeste = df.estado.where(df.regiao == 'Nordeste').unique().tolist()\n",
        "nordeste.pop(0)\n",
        "\n",
        "\n",
        "centro_oeste = df.estado.where(df.regiao == 'Centro-Oeste').unique().tolist()\n",
        "centro_oeste.pop(0)\n",
        "\n",
        "sudeste = df.estado.where(df.regiao == 'Sudeste').unique().tolist()\n",
        "sudeste.pop(0)\n",
        "\n",
        "sul = df.estado.where(df.regiao == 'Sul').unique().tolist()\n",
        "sul.pop(0)\n"
      ],
      "execution_count": null,
      "outputs": []
    },
    {
      "cell_type": "code",
      "metadata": {
        "id": "CdzcRnnqIRka"
      },
      "source": [
        "gp = agrupar(df,[df.index,df.estado])\n",
        "\n",
        "for regiao in [norte,nordeste,centro_oeste,sudeste,sul]:\n",
        " print(gp[regiao].rolling(window=7).mean().dropna().max())"
      ],
      "execution_count": null,
      "outputs": []
    },
    {
      "cell_type": "code",
      "metadata": {
        "id": "Ig5BPAn8Iiux"
      },
      "source": [
        "fig, ax = plt.subplots(nrows=1,ncols=5,figsize=(32,8))\n",
        "#Colocando cor na area de algo\n",
        "\n",
        "\n",
        "estados = [\"Tocantins\", \"Goiás\", \"Espírito Santo\",\"Minas Gerais\",\"Rio Grande do Sul\"]\n",
        "\n",
        "df_todos_estados = agrupar(df,[df.index,df.estado])\n",
        "\n",
        "for i,estado in enumerate(estados):\n",
        "\n",
        "  #Agrupando por Index e Estado\n",
        "  df_destaque = agrupar(df,[df.index,df.estado],estado)\n",
        "  \n",
        "  for regiao in [norte,nordeste,centro_oeste,sudeste,sul]:\n",
        "    df_regiao = agrupar(df,[df.index,df.estado],regiao)\n",
        "  ##Colocando os outros Estados (Por Regiao) em Cinza\n",
        "  df_regiao.plot(legend=False,color=\"grey\",linewidth=1, alpha=0.4, ax=ax[i])\n",
        "\n",
        "\n",
        "  ## Colocando o Estado em Destaque\n",
        "  df_destaque.plot(legend=True, linewidth=4,zorder=3,color='#35d0ba', alpha=1,ax=ax[i])\n",
        "\n",
        "\n",
        "  # Pegar os Mínimos\n",
        "  indexMin, min = getMinimo(df_destaque.dropna())\n",
        "  indexUltimo, ultimo = getUltimo(df_destaque.dropna())\n",
        "  variacao = getVariacao(min,ultimo)\n",
        "\n",
        "  # Bolinha no Minimo\n",
        "  ax[i].scatter(indexMin,min,marker='o',color='#ff9234',linewidth=6,zorder=4)\n",
        "  ax[i].annotate('{0:.2f}'.format(min),xy=(indexMin,min+1),fontsize=14,color='black',weight='bold',ha='right',path_effects=[path_effects.withStroke(linewidth=4,foreground='w')])\n",
        "  \n",
        "\n",
        "  # Bolinha no ultimo\n",
        "  ax[i].scatter(indexUltimo,ultimo,marker='o',color='#ff9234',linewidth=6,zorder=4)\n",
        "  ax[i].annotate('{0:.2f}'.format(ultimo),xy=(indexUltimo,ultimo+2),fontsize=14,color='black',weight='bold',ha='right',path_effects=[path_effects.withStroke(linewidth=4,foreground='w')])\n",
        "\n",
        "  # Porcentagem Variação\n",
        "  ax[i].annotate(variacao,xy=(indexUltimo,-50),fontsize=14,color='#d92027',weight='bold',ha='right',path_effects=[path_effects.withStroke(linewidth=4,foreground='w')])\n",
        "  \n",
        "  # Tracinhos do Capeta\n",
        "  # Tranformação do Timestamp em Periodo\n",
        "  ax[i].plot([pd.Period(indexMin.ctime(), 'D'), pd.Period(indexUltimo.ctime(), 'D')], [min, min], color=\"#ff9234\", linestyle=\"--\", linewidth=2)\n",
        "  ax[i].plot([pd.Period(indexUltimo.ctime(), 'D'), pd.Period(indexUltimo.ctime(), 'D')], [min, ultimo], color=\"#d92027\", linestyle=\"--\", linewidth=2)\n",
        "\n",
        "\n",
        "  ## Fundo do Plot\n",
        "  fig.patch.set_facecolor('#fff1e5')\n",
        "  ax[i].set_facecolor('#fff1e5')\n",
        "  fig.patch.set_visible('#fff1e5')\n",
        "  # ax[i].spines['right'].set_visible(False)\n",
        "  # ax[i].spines['left'].set_visible(False)\n",
        "  # ax[i].spines['top'].set_visible(False)\n",
        "  for i,regiao in  enumerate(['Norte','Nordeste','Centro-Oeste','Sudeste','Sul']):\n",
        "    ax[i].set_title(regiao,fontsize=14,color='black',weight='bold',ha='center')\n",
        "    ax[i].xaxis.grid(False)\n",
        "    ax[i].set_facecolor('#fff1e5')\n",
        "    ax[i].set_xlabel(\"\")\n",
        "    ax[i].arrow(0, 3, 5, -2.5, head_width = 0.5, \n",
        "          head_length = 0.5, fc ='g', ec ='g')\n",
        "    ax[i].set_xticklabels([\"\",\"Ago\",\"\",\"\",\"\",\"\",\"\",\"Set\"])\n",
        "    ax[i].xaxis.set_tick_params(labelsize=12)\n",
        "    ax[i].yaxis.set_tick_params(labelsize=12)\n",
        "    if (i==0) or (i==4):\n",
        "      ax[i].yaxis.tick_right()\n",
        "    else:\n",
        "      ax[i].set_yticklabels([])"
      ],
      "execution_count": null,
      "outputs": []
    },
    {
      "cell_type": "code",
      "metadata": {
        "id": "W1fXgXblOpQ7"
      },
      "source": [
        "fig, ax = plt.subplots(nrows=1,ncols=5,figsize=(32,8))\n",
        "#Colocando cor na area de algo\n",
        "\n",
        "\n",
        "estados = [\"Pará\", \"Maranhão\", \"Mato Grosso\",\"Minas Gerais\",\"Paraná\"]\n",
        "\n",
        "df_todos_estados = agrupar(df,[df.index,df.estado])\n",
        "\n",
        "for i,estado in enumerate(estados):\n",
        "\n",
        "  #Agrupando por Index e Estado\n",
        "  df_destaque = agrupar(df,[df.index,df.estado],estado)\n",
        "  \n",
        "  for regiao in [norte,nordeste,centro_oeste,sudeste,sul]:\n",
        "    df_regiao = agrupar(df,[df.index,df.estado],regiao)\n",
        "  ##Colocando os outros Estados (Por Regiao) em Cinza\n",
        "  df_regiao.plot(legend=False,color=\"grey\",linewidth=1, alpha=0.4, ax=ax[i])\n",
        "\n",
        "\n",
        "  ## Colocando o Estado em Destaque\n",
        "  df_destaque.plot(legend=True, linewidth=4,zorder=3,color='#35d0ba', alpha=1,ax=ax[i])\n",
        "\n",
        "\n",
        "  # Pegar os Mínimos\n",
        "  indexMin, min = getMinimo(df_destaque.dropna())\n",
        "  indexUltimo, ultimo = getUltimo(df_destaque.dropna())\n",
        "  variacao = getVariacao(min,ultimo)\n",
        "\n",
        "  # Bolinha no Minimo\n",
        "  ax[i].scatter(indexMin,min,marker='o',color='#ff9234',linewidth=6,zorder=4)\n",
        "  ax[i].annotate('{0:.2f}'.format(min),xy=(indexMin,min+1),fontsize=14,color='black',weight='bold',ha='right',path_effects=[path_effects.withStroke(linewidth=4,foreground='w')])\n",
        "  \n",
        "\n",
        "  # Bolinha no ultimo\n",
        "  ax[i].scatter(indexUltimo,ultimo,marker='o',color='#ff9234',linewidth=6,zorder=4)\n",
        "  ax[i].annotate('{0:.2f}'.format(ultimo),xy=(indexUltimo,ultimo+2),fontsize=14,color='black',weight='bold',ha='right',path_effects=[path_effects.withStroke(linewidth=4,foreground='w')])\n",
        "\n",
        "  # Porcentagem Variação\n",
        "  ax[i].annotate(variacao,xy=(indexUltimo,-50),fontsize=14,color='#d92027',weight='bold',ha='right',path_effects=[path_effects.withStroke(linewidth=4,foreground='w')])\n",
        "  \n",
        "  # Tracinhos do Capeta\n",
        "  # Tranformação do Timestamp em Periodo\n",
        "  ax[i].plot([pd.Period(indexMin.ctime(), 'D'), pd.Period(indexUltimo.ctime(), 'D')], [min, min], color=\"#ff9234\", linestyle=\"--\", linewidth=2)\n",
        "  ax[i].plot([pd.Period(indexUltimo.ctime(), 'D'), pd.Period(indexUltimo.ctime(), 'D')], [min, ultimo], color=\"#d92027\", linestyle=\"--\", linewidth=2)\n",
        "\n",
        "\n",
        "  ## Fundo do Plot\n",
        "  fig.patch.set_facecolor('#fff1e5')\n",
        "  ax[i].set_facecolor('#fff1e5')\n",
        "  fig.patch.set_visible('#fff1e5')\n",
        "  # ax[i].spines['right'].set_visible(False)\n",
        "  # ax[i].spines['left'].set_visible(False)\n",
        "  # ax[i].spines['top'].set_visible(False)\n",
        "  for i,regiao in  enumerate(['Norte','Nordeste','Centro-Oeste','Sudeste','Sul']):\n",
        "    ax[i].set_title(regiao,fontsize=14,color='black',weight='bold',ha='center')\n",
        "    ax[i].xaxis.grid(False)\n",
        "    ax[i].set_facecolor('#fff1e5')\n",
        "    ax[i].set_xlabel(\"\")\n",
        "    ax[i].arrow(0, 3, 5, -2.5, head_width = 0.5, \n",
        "          head_length = 0.5, fc ='g', ec ='g')\n",
        "    ax[i].set_xticklabels([\"\",\"Ago\",\"\",\"\",\"\",\"\",\"\",\"Set\"])\n",
        "    ax[i].xaxis.set_tick_params(labelsize=12)\n",
        "    ax[i].yaxis.set_tick_params(labelsize=12)\n",
        "    if (i==0) or (i==4):\n",
        "      ax[i].yaxis.tick_right()\n",
        "    else:\n",
        "      ax[i].set_yticklabels([])"
      ],
      "execution_count": null,
      "outputs": []
    }
  ]
}